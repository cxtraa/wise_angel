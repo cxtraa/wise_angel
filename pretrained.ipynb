{
 "cells": [
  {
   "cell_type": "markdown",
   "metadata": {},
   "source": [
    "## Fine-tuning YOLO on drone footage data for object detection\n",
    "\n",
    "This is an example notebook showing how a simple YOLO model can be fine-tuned to obtain better performance on drone footage data.\n",
    "\n",
    "The idea is to use transfer learning. We train on only the final 2 fully-connected layers in the YOLO architecture, leaving the convolutional weights unchanged."
   ]
  },
  {
   "cell_type": "markdown",
   "metadata": {},
   "source": [
    "#### Import libraries\n",
    "\n",
    "- We use PyTorch for deep learning.\n",
    "- NumPy, Pandas, Plotly, and Matplotlib are just generally useful.\n",
    "- Einops is used for tensor operations."
   ]
  },
  {
   "cell_type": "code",
   "execution_count": 41,
   "metadata": {},
   "outputs": [],
   "source": [
    "import torch\n",
    "import numpy as np\n",
    "import pandas as pd\n",
    "import einops\n",
    "import matplotlib.pyplot as plt\n",
    "import plotly.graph_objects as go\n",
    "import torchvision\n",
    "import kagglehub\n",
    "import os\n",
    "\n",
    "device = \"cuda\" if torch.cuda.is_available() else \"cpu\""
   ]
  },
  {
   "cell_type": "markdown",
   "metadata": {},
   "source": [
    "#### Load data\n",
    "\n",
    "In this section we will:\n",
    "- Import data from Kaggle (VisDrone dataset).\n",
    "- Create a Dataset object which allows sampling of images and labels as transformed tensors.\n",
    "- Create DataLoader objects for doing minibatch stochastic gradient descent."
   ]
  },
  {
   "cell_type": "code",
   "execution_count": 50,
   "metadata": {},
   "outputs": [
    {
     "name": "stdout",
     "output_type": "stream",
     "text": [
      "C:\\Users\\moosa\\.cache\\kagglehub\\datasets\\kushagrapandya\\visdrone-dataset\\versions\\1\n"
     ]
    }
   ],
   "source": [
    "# Import VisDrone dataset from Kaggle (about 2GB)\n",
    "# Very annoyingly, kagglehub does not allow you to specify the download path...\n",
    "# You should manually move the downloaded files to the current directory.\n",
    "\n",
    "path = kagglehub.dataset_download(\"kushagrapandya/visdrone-dataset\")\n",
    "print(path)"
   ]
  },
  {
   "cell_type": "markdown",
   "metadata": {},
   "source": [
    "#### Load pretrained model\n",
    "\n",
    "Let's load the pretrained model and test it out on a sample image."
   ]
  },
  {
   "cell_type": "code",
   "execution_count": 35,
   "metadata": {},
   "outputs": [
    {
     "name": "stderr",
     "output_type": "stream",
     "text": [
      "Using cache found in C:\\Users\\moosa/.cache\\torch\\hub\\ultralytics_yolov5_master\n",
      "YOLOv5  2024-10-26 Python-3.12.5 torch-2.4.1+cu118 CUDA:0 (NVIDIA GeForce RTX 3050 Laptop GPU, 4096MiB)\n",
      "\n",
      "Fusing layers... \n",
      "YOLOv5s summary: 213 layers, 7225885 parameters, 0 gradients, 16.4 GFLOPs\n",
      "Adding AutoShape... \n"
     ]
    }
   ],
   "source": [
    "model = torch.hub.load(\"ultralytics/yolov5\", \"yolov5s\", pretrained=True)"
   ]
  }
 ],
 "metadata": {
  "kernelspec": {
   "display_name": "standard_ml",
   "language": "python",
   "name": "python3"
  },
  "language_info": {
   "codemirror_mode": {
    "name": "ipython",
    "version": 3
   },
   "file_extension": ".py",
   "mimetype": "text/x-python",
   "name": "python",
   "nbconvert_exporter": "python",
   "pygments_lexer": "ipython3",
   "version": "3.12.5"
  }
 },
 "nbformat": 4,
 "nbformat_minor": 2
}
